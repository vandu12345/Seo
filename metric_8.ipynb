{
 "cells": [
  {
   "cell_type": "code",
   "execution_count": 15,
   "metadata": {},
   "outputs": [
    {
     "name": "stdout",
     "output_type": "stream",
     "text": [
      "200\n",
      "200:This shows that the request was successful\n"
     ]
    }
   ],
   "source": [
    "from bs4 import BeautifulSoup\n",
    "import urllib.request\n",
    "import requests\n",
    "\n",
    "url = \"http://dino.com/\"\n",
    "try:\n",
    "    response= requests.get(url)\n",
    "except:\n",
    "    print(\"Problems in URL\")\n",
    "\n",
    "status= response.status_code\n",
    "print(status)\n",
    "if(status/100==1):\n",
    "    print(f\"{status}:This lets us know that the request was recieved\")\n",
    "elif(status/100==2):\n",
    "    print(f\"{status}:This shows that the request was successful\")\n",
    "elif(status/100==3):\n",
    "    print(f\"{status}:This is for redirects (temporary and permanent)\")\n",
    "elif(status/100==4):\n",
    "    print(f\"{status}:Client errors\")\n",
    "elif(status/100==5):\n",
    "    print(f\"{status}:Client errors\")\n",
    "else:\n",
    "    print(\"Any other Problem Occured\")\n"
   ]
  },
  {
   "cell_type": "code",
   "execution_count": null,
   "metadata": {},
   "outputs": [],
   "source": []
  },
  {
   "cell_type": "code",
   "execution_count": null,
   "metadata": {},
   "outputs": [],
   "source": []
  }
 ],
 "metadata": {
  "kernelspec": {
   "display_name": "Python 3",
   "language": "python",
   "name": "python3"
  },
  "language_info": {
   "codemirror_mode": {
    "name": "ipython",
    "version": 3
   },
   "file_extension": ".py",
   "mimetype": "text/x-python",
   "name": "python",
   "nbconvert_exporter": "python",
   "pygments_lexer": "ipython3",
   "version": "3.8.3"
  }
 },
 "nbformat": 4,
 "nbformat_minor": 4
}
