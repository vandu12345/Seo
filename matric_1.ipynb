{
 "cells": [
  {
   "cell_type": "code",
   "execution_count": null,
   "metadata": {},
   "outputs": [],
   "source": [
    "\n"
   ]
  },
  {
   "cell_type": "code",
   "execution_count": null,
   "metadata": {
    "scrolled": true
   },
   "outputs": [],
   "source": []
  },
  {
   "cell_type": "code",
   "execution_count": 3,
   "metadata": {},
   "outputs": [
    {
     "name": "stdout",
     "output_type": "stream",
     "text": [
      "No of images:62\n",
      "Sum of images:588.12\n",
      "Max size:78.64\n",
      "Min size :0.068\n",
      "Average : 9.8\n",
      "SD : 12\n",
      "2 url's have some problem\n",
      "0.5289410179842837\n"
     ]
    },
    {
     "data": {
      "image/png": "[encoded data removed]",
      "text/plain": [
       "<Figure size 432x288 with 1 Axes>"
      ]
     },
     "metadata": {
      "needs_background": "light"
     },
     "output_type": "display_data"
    }
   ],
   "source": [
    "import re,urllib,requests,math\n",
    "# from io import StringIO\n",
    "from bs4 import BeautifulSoup\n",
    "import math,statistics\n",
    "import matplotlib.pyplot as plt\n",
    "import numpy as np\n",
    "# import scipy.stats\n",
    "from scipy import stats\n",
    "from scipy.stats import norm\n",
    "url = \"https://en.wikipedia.org/wiki/Rabindranath_Tagore\"\n",
    "soup = BeautifulSoup(requests.get(url).text, \"html.parser\")\n",
    "images = soup.find_all('img')\n",
    "# print(images['src'])\n",
    "# print(type(images))\n",
    "t = 0    \n",
    "count = 0\n",
    "Max = 0\n",
    "Min = float(\"inf\")\n",
    "list1 = list()\n",
    "Sum = 0\n",
    "for img in soup.find_all(\"img\"):\n",
    "    try:\n",
    "        img_url = img.attrs.get(\"src\")\n",
    "        s = \"https:\"+img_url\n",
    "    #     print(s)\n",
    "        file = urllib.request.urlopen(s)\n",
    "        size = file.headers.get(\"content-length\")\n",
    "    #     print(int(size)/1000)\n",
    "        length = int(size)/1000\n",
    "    #     print(length)\n",
    "        Max = max(Max,length)\n",
    "        Min = min(Min,length)\n",
    "        count+=1\n",
    "        Sum+=length\n",
    "        list1.append(length)\n",
    "        if not img_url:\n",
    "            continue\n",
    "    except:\n",
    "        t+=1\n",
    "        count+=1\n",
    "    #         # if img does not contain src attribute, just skip\n",
    "    #         continue\n",
    "    # print(count)\n",
    "mean = round(Sum/(count-t),2)\n",
    "print(f\"No of images:{count}\\nSum of images:{round(Sum,2)}KB\\nMax size:{Max}KB\\nMin size :{Min}KB\\nAverage : {mean}KB\")\n",
    "c1 =min(100,mean)\n",
    "c = 0\n",
    "sd = 0\n",
    "y = 0\n",
    "for i in list1:\n",
    "    sd = sd+(i-mean)**2\n",
    "    if(i>c1):\n",
    "        x = (Max-i)/(Max-c1)\n",
    "        y+=x\n",
    "    elif(i<c1):\n",
    "        x = (i-Min)/(c1-Min)\n",
    "        y+=x\n",
    "    else:\n",
    "        x = 1\n",
    "        y+=x\n",
    "    c+=1\n",
    "    plt.plot(i,x,'o')\n",
    "sd1 = round(math.sqrt(sd/(count-t)))\n",
    "print(f\"SD : {sd1}\")\n",
    "print(f\"{t} url's have some problem\")\n",
    "# print(statistics.stdev(list1))\n",
    "# plt.show()\n",
    "print(y/c)"
   ]
  },
  {
   "cell_type": "code",
   "execution_count": 35,
   "metadata": {},
   "outputs": [
    {
     "name": "stdout",
     "output_type": "stream",
     "text": [
      "14\n"
     ]
    }
   ],
   "source": [
    "# import re,urllib,requests,math\n",
    "# file = urllib.request.urlopen(\"https://upload.wikimedia.org/wikipedia/commons/thumb/8/80/Rabindranath_Tagore_unknown_location.jpg/220px-Rabindranath_Tagore_unknown_location.jpg\")\n",
    "# size = file.headers.get(\"content-length\")\n",
    "# # print(round(size/1000))\n",
    "# print(round(int(size)/1000))"
   ]
  },
  {
   "cell_type": "code",
   "execution_count": 2,
   "metadata": {},
   "outputs": [
    {
     "name": "stdout",
     "output_type": "stream",
     "text": [
      "1\n"
     ]
    }
   ],
   "source": []
  },
  {
   "cell_type": "code",
   "execution_count": null,
   "metadata": {},
   "outputs": [],
   "source": []
  }
 ],
 "metadata": {
  "kernelspec": {
   "display_name": "Python 3",
   "language": "python",
   "name": "python3"
  },
  "language_info": {
   "codemirror_mode": {
    "name": "ipython",
    "version": 3
   },
   "file_extension": ".py",
   "mimetype": "text/x-python",
   "name": "python",
   "nbconvert_exporter": "python",
   "pygments_lexer": "ipython3",
   "version": "3.8.3"
  }
 },
 "nbformat": 4,
 "nbformat_minor": 4
}
