{
 "cells": [
  {
   "cell_type": "code",
   "execution_count": 2,
   "metadata": {},
   "outputs": [],
   "source": [
    "import re,urllib,requests,math\n",
    "# from io import StringIO\n",
    "from bs4 import BeautifulSoup\n",
    "# from PIL import Image\n",
    "\n",
    "# site = 'https://www.amazon.in/'\n",
    "# response = requests.get(site)\n",
    "count = 0;\n",
    "with open('test.html') as hf:\n",
    "    soup = BeautifulSoup(hf, 'html.parser')\n",
    "for social in soup.find_all('a'):\n",
    "    if re.search(\"youtube\",social[\"href\"]):\n",
    "        print(\"YouTube Present\")\n",
    "    elif re.search(\"facebook\",social[\"href\"]):\n",
    "        print(\"FaceBook Present\")\n",
    "    elif re.search(\"instagram\",social[\"href\"]):\n",
    "        print(\"Instagram Present\")\n",
    "    elif re.search(\"twitter\",social[\"href\"]):\n",
    "        print(\"YouTube Present\")"
   ]
  },
  {
   "cell_type": "code",
   "execution_count": null,
   "metadata": {},
   "outputs": [],
   "source": []
  }
 ],
 "metadata": {
  "kernelspec": {
   "display_name": "Python 3",
   "language": "python",
   "name": "python3"
  },
  "language_info": {
   "codemirror_mode": {
    "name": "ipython",
    "version": 3
   },
   "file_extension": ".py",
   "mimetype": "text/x-python",
   "name": "python",
   "nbconvert_exporter": "python",
   "pygments_lexer": "ipython3",
   "version": "3.8.3"
  }
 },
 "nbformat": 4,
 "nbformat_minor": 4
}
