{
 "cells": [
  {
   "cell_type": "code",
   "execution_count": null,
   "id": "27627fa3",
   "metadata": {},
   "outputs": [],
   "source": [
    "from urllib.request import urlopen\n",
    "from bs4 import BeautifulSoup\n",
    "import re\n",
    "url=input (\" Which page would you like to check? Enter the Full URl:\")\n",
    "keyword=input(\" What is your seo keyword?\")\n",
    "try:\n",
    "    html=urlopen(url)\n",
    "except HTTPError as e:\n",
    "    print(e)\n",
    "data = BeautifulSoup(html,\"html.parser\")\n",
    "\n",
    "def seo_title_found(keyword, data):\n",
    "    if keyword.casefold() in data.title.text.casefold():\n",
    "        status=\"Found\"\n",
    "    else:\n",
    "        status=\" Not Found\"\n",
    "    return status\n",
    "\n",
    "def seo_title_stop_words(data):\n",
    "    words=0\n",
    "    list_words=[]\n",
    "    if data.title:\n",
    "        with open('stopwords.txt','r') as f:\n",
    "            for line in f:\n",
    "                if re.search(r'\\b' + line.rstrip('\\n') + r'\\b', data.title.text.casefold()):\n",
    "                    words +=1\n",
    "                    list_words.append(line.rstrip('\\n'))\n",
    "        if words > 0:\n",
    "            stop_words=\"we found {} stop words in your title.You should consider removing them.{}\".format(words,list_words)\n",
    "        else:\n",
    "            stop_words=\"we found no stop words in the Title.Good work\"\n",
    "                    \n",
    "    else:\n",
    "        stop_words=\"we could not found  a title\"\n",
    "        \n",
    "    return stop_words\n",
    "def seo_title_length(data):\n",
    "    if data.title:\n",
    "        if len(data.title.text) < 60 :\n",
    "            length= \"your length is under the maximum suggested length of 60 characters. your title is {}\".format(len(data.title.text)) \n",
    "        else:\n",
    "            length = \" your length is over the maximum suggest length of 60 character.your title is {}\".format(len(data.title.text))\n",
    "    else:\n",
    "        length = \"not title was found\"\n",
    "    return length\n",
    "        \n",
    "print(seo_title_found(keyword, data))\n",
    "print(seo_title_stop_words( data))\n",
    "print(seo_title_length( data))\n",
    "\n"
   ]
  }
 ],
 "metadata": {
  "kernelspec": {
   "display_name": "Python 3",
   "language": "python",
   "name": "python3"
  },
  "language_info": {
   "codemirror_mode": {
    "name": "ipython",
    "version": 3
   },
   "file_extension": ".py",
   "mimetype": "text/x-python",
   "name": "python",
   "nbconvert_exporter": "python",
   "pygments_lexer": "ipython3",
   "version": "3.8.8"
  }
 },
 "nbformat": 4,
 "nbformat_minor": 5
}
