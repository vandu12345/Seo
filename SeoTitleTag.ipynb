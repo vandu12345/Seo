{
 "cells": [
  {
   "cell_type": "code",
   "execution_count": 10,
   "id": "27627fa3",
   "metadata": {},
   "outputs": [
    {
     "name": "stdout",
     "output_type": "stream",
     "text": [
      " Which page would you like to check? Enter the Full URl:https://alienion.com/\n",
      "your length is under the maximum suggested length of 60 characters. your title is 50\n",
      " Which page would you like to check? Enter the Full URl:https://www.flipkart.com/\n",
      " your length is over the maximum suggest length of 60 character.your title is 104\n",
      " Which page would you like to check? Enter the Full URl:https://www.amazon.in/\n",
      " your length is over the maximum suggest length of 60 character.your title is 98\n"
     ]
    }
   ],
   "source": [
    "from urllib.request import urlopen\n",
    "from bs4 import BeautifulSoup\n",
    "import requests\n",
    "import re\n",
    "\n",
    "def seo_title_length():\n",
    "    site=input (\" Which page would you like to check? Enter the Full URl:\")\n",
    "    headers = {'User-Agent': 'Mozilla/5.0 (X11; Linux x86_64) AppleWebKit/537.11 (KHTML, like Gecko) Chrome/23.0.1271.64 Safari/537.11',\n",
    "                   'Accept': 'text/html,application/xhtml+xml,application/xml;q=0.9,*/*;q=0.8',\n",
    "                   'Accept-Charset': 'ISO-8859-1,utf-8;q=0.7,*;q=0.3',\n",
    "                   'Accept-Encoding': 'none',\n",
    "                   'Accept-Language': 'en-US,en;q=0.8',\n",
    "                   'Connection': 'keep-alive'}\n",
    "    response = requests.get(site,headers=headers)\n",
    "    soup = BeautifulSoup(response.text, 'html.parser')\n",
    "    data=soup\n",
    "    if data.title:\n",
    "                if len(data.title.text) >30 and len(data.title.text) < 60  :\n",
    "                    length= \"your length is under the maximum suggested length of 60 characters. your title is {}\".format(len(data.title.text)) \n",
    "                else:\n",
    "                    length = \" your length is over the maximum suggest length of 60 character.your title is {}\".format(len(data.title.text))\n",
    "    else:\n",
    "                length = \"not title was found\"\n",
    "    return length\n",
    "for i in range(3):    \n",
    "    print(seo_title_length())\n",
    "\n"
   ]
  },
  {
   "cell_type": "code",
   "execution_count": null,
   "id": "d60c6300",
   "metadata": {},
   "outputs": [],
   "source": [
    "from urllib.request import urlopen\n",
    "from bs4 import BeautifulSoup\n",
    "import re\n",
    "site=input (\" Which page would you like to check? Enter the Full URl:\")\n",
    "headers = {'User-Agent': 'Mozilla/5.0 (X11; Linux x86_64) AppleWebKit/537.11 (KHTML, like Gecko) Chrome/23.0.1271.64 Safari/537.11',\n",
    "               'Accept': 'text/html,application/xhtml+xml,application/xml;q=0.9,*/*;q=0.8',\n",
    "               'Accept-Charset': 'ISO-8859-1,utf-8;q=0.7,*;q=0.3',\n",
    "               'Accept-Encoding': 'none',\n",
    "               'Accept-Language': 'en-US,en;q=0.8',\n",
    "               'Connection': 'keep-alive'}\n",
    "response = requests.get(site,headers=headers)\n",
    "soup = BeautifulSoup(response.text, 'html.parser')\n",
    "def seo_title_stop_words(data):\n",
    "    words=0\n",
    "    list_words=[]\n",
    "    if data.title:\n",
    "        with open('stopwords.txt','r') as f:\n",
    "            for line in f:\n",
    "                if re.search(r'\\b' + line.rstrip('\\n') + r'\\b', data.title.text.casefold()):\n",
    "                    words +=1\n",
    "                    list_words.append(line.rstrip('\\n'))\n",
    "        if words > 0:\n",
    "            stop_words=\"we found {} stop words in your title.You should consider removing them.{}\".format(words,list_words)\n",
    "        else:\n",
    "            stop_words=\"we found no stop words in the Title.Good work\"\n",
    "                    \n",
    "    else:\n",
    "        stop_words=\"we could not found  a title\"\n",
    "        \n",
    "    return stop_words\n",
    "print(seo_title_stop_words( soup))"
   ]
  },
  {
   "cell_type": "code",
   "execution_count": 6,
   "id": "dc9aeea2",
   "metadata": {},
   "outputs": [
    {
     "name": "stdout",
     "output_type": "stream",
     "text": [
      "enter your URL: https://alienion.com/\n",
      "200:This shows that the request was successful\n",
      "enter your URL: https://www.facebook.com/showcaseflowers\n",
      "404:Client errors\n"
     ]
    }
   ],
   "source": [
    "from bs4 import BeautifulSoup\n",
    "from urllib. parse import urlparse\n",
    "import requests\n",
    "import urllib.request\n",
    "import re\n",
    "def statuscodecheck():\n",
    "    url=input(\"enter your URL: \")\n",
    "    headers = {'User-Agent': 'Mozilla/5.0 (X11; Linux x86_64) AppleWebKit/537.11 (KHTML, like Gecko) Chrome/23.0.1271.64 Safari/537.11',\n",
    "               'Accept': 'text/html,application/xhtml+xml,application/xml;q=0.9,*/*;q=0.8',\n",
    "               'Accept-Charset': 'ISO-8859-1,utf-8;q=0.7,*;q=0.3',\n",
    "               'Accept-Encoding': 'none',\n",
    "               'Accept-Language': 'en-US,en;q=0.8',\n",
    "               'Connection': 'keep-alive'}\n",
    "    response= requests.get(url,headers=headers)\n",
    "    status= response.status_code\n",
    "    status1=int(status/100)\n",
    "    if(status1==1):\n",
    "        print(f\"{status}:This lets us know that the request was recieved\")\n",
    "    elif(status1==2):\n",
    "        print(f\"{status}:This shows that the request was successful\")\n",
    "    elif(status1==3):\n",
    "        print(f\"{status}:This is for redirects (temporary and permanent)\")\n",
    "    elif(status1==4):\n",
    "        print(f\"{status}:Client errors\")\n",
    "    elif(status1==5):\n",
    "        print(f\"{status}:Server Error\")\n",
    "    else:\n",
    "        print(\"Any other Problem Occured\")\n",
    "        \n",
    "for i in range(2):\n",
    "    statuscodecheck()"
   ]
  },
  {
   "cell_type": "code",
   "execution_count": 9,
   "id": "dd142a58",
   "metadata": {},
   "outputs": [
    {
     "name": "stdout",
     "output_type": "stream",
     "text": [
      "Enter URL : https://www.amazon.in/\n",
      "FaceBook Present\n",
      "Twitter Present\n",
      "Instagram Present\n",
      "Enter URL : https://www.flipkart.com/\n",
      "FaceBook Present\n",
      "Twitter Present\n",
      "YouTube Present\n"
     ]
    }
   ],
   "source": [
    "import re,urllib,requests,math\n",
    "from bs4 import BeautifulSoup\n",
    "def socialmediaornot():\n",
    "    site = input(\"Enter URL : \")\n",
    "    headers = {'User-Agent': 'Mozilla/5.0 (X11; Linux x86_64) AppleWebKit/537.11 (KHTML, like Gecko) Chrome/23.0.1271.64 Safari/537.11',\n",
    "                   'Accept': 'text/html,application/xhtml+xml,application/xml;q=0.9,*/*;q=0.8',\n",
    "                   'Accept-Charset': 'ISO-8859-1,utf-8;q=0.7,*;q=0.3',\n",
    "                   'Accept-Encoding': 'none',\n",
    "                   'Accept-Language': 'en-US,en;q=0.8',\n",
    "                   'Connection': 'keep-alive'}\n",
    "    response = requests.get(site,headers=headers)\n",
    "    soup = BeautifulSoup(response.text, 'html.parser')\n",
    "    # print(soup)\n",
    "    flag1 = 0\n",
    "    flag2 = 0\n",
    "    flag3 = 0\n",
    "    flag4 = 0\n",
    "    flag5 = 0\n",
    "    for social in soup.find_all('a',href=True):\n",
    "        if re.search(\"youtube\",social['href']) and flag1==0:\n",
    "            flag1 = 1\n",
    "            print(\"YouTube Present\")\n",
    "        elif re.search(\"facebook\",social['href']) and flag2==0:\n",
    "            flag2 = 1\n",
    "            print(\"FaceBook Present\")\n",
    "        elif re.search(\"instagram\",social['href']) and flag3==0:\n",
    "            flag3 = 1\n",
    "            print(\"Instagram Present\")\n",
    "        elif re.search(\"twitter\",social['href']) and flag4==0:\n",
    "            flag4 = 1\n",
    "            print(\"Twitter Present\")\n",
    "        elif  re.search(\"linkedin\",social['href']) and flag5==0:\n",
    "            flag5 = 1\n",
    "            print(\"LinkedIn Present\")\n",
    "\n",
    "for i in range(2):\n",
    "    socialmediaornot()\n",
    " "
   ]
  },
  {
   "cell_type": "code",
   "execution_count": 13,
   "id": "bed7b512",
   "metadata": {},
   "outputs": [
    {
     "name": "stdout",
     "output_type": "stream",
     "text": [
      "Enter the url whose loading time you want to check: https://www.flipkart.com/\n",
      "\n",
      "The time taken to load https://www.flipkart.com/ is 0.16 seconds.\n",
      "Enter the url whose loading time you want to check: https://www.amazon.in/\n",
      "\n",
      "The time taken to load https://www.amazon.in/ is 0.22 seconds.\n"
     ]
    }
   ],
   "source": [
    "from urllib.request import urlopen\n",
    "import time\n",
    "\n",
    "def loadingtime():\n",
    "    url = input(\"Enter the url whose loading time you want to check: \")\n",
    "    if (\"https\" or \"http\") in url:  # Checking for presence of protocols\n",
    "        open_this_url = urlopen(url)  # Open the url as entered by the user\n",
    "    else:\n",
    "        open_this_url = urlopen(\"https://\" + url)  # Adding https to the url\n",
    "    start_time = time.time()  # Time stamp before the reading of url starts\n",
    "    open_this_url.read()  # Reading the user defined url\n",
    "    end_time = time.time()  # Time stamp after the reading of the url\n",
    "    open_this_url.close()  # Closing the instance of the urlopen object\n",
    "    time_to_load = end_time - start_time\n",
    "    print(f\"\\nThe time taken to load {url} is {round(time_to_load,2)} seconds.\")\n",
    "\n",
    "for i in range(2):\n",
    "    loadingtime()\n",
    "#get_load_time(url)"
   ]
  },
  {
   "cell_type": "code",
   "execution_count": 17,
   "id": "bf1ea1eb",
   "metadata": {},
   "outputs": [
    {
     "name": "stdout",
     "output_type": "stream",
     "text": [
      "Enter Website : https://www.flipkart.com/\n",
      "Page Size 358.326 KB\n",
      "Enter Website : https://www.amazon.in/\n",
      "Page Size 387.02 KB\n"
     ]
    }
   ],
   "source": [
    "import urllib.request\n",
    "import re,urllib,requests,math\n",
    "def pagesize():\n",
    "    url = input(\"Enter Website : \")\n",
    "    site = urllib.request.urlopen(url)\n",
    "    print (f\"Page Size {len(site.read())/1000} KB\")\n",
    "for i in range(2):\n",
    "    pagesize()\n",
    "       "
   ]
  },
  {
   "cell_type": "code",
   "execution_count": 18,
   "id": "f7aa46a6",
   "metadata": {},
   "outputs": [
    {
     "name": "stdout",
     "output_type": "stream",
     "text": [
      "Enter url:https://stackoverflow.com/questions/55910971/could-not-find-a-version-that-satisfies-the-requirement-for-select-requirements\n",
      "h1-2\n",
      "h2-3\n",
      "h3-6\n",
      "h4-3\n",
      "h5-4\n",
      "h6-0\n",
      "\n"
     ]
    },
    {
     "data": {
      "image/png": "[encoded data removed]",
      "text/plain": [
       "<Figure size 720x576 with 1 Axes>"
      ]
     },
     "metadata": {},
     "output_type": "display_data"
    }
   ],
   "source": [
    "from bs4 import BeautifulSoup\n",
    "import urllib.request\n",
    "import requests\n",
    "from matplotlib import pyplot as plt\n",
    "import numpy as np\n",
    "url = input(\"Enter url:\")\n",
    "data = []\n",
    "allign = []\n",
    "headers = {'User-Agent': 'Mozilla/5.0 (X11; Linux x86_64) AppleWebKit/537.11 (KHTML, like Gecko) Chrome/23.0.1271.64 Safari/537.11',\n",
    "           'Accept': 'text/html,application/xhtml+xml,application/xml;q=0.9,/;q=0.8',\n",
    "           'Accept-Charset': 'ISO-8859-1,utf-8;q=0.7,*;q=0.3',\n",
    "           'Accept-Encoding': 'none',\n",
    "           'Accept-Language': 'en-US,en;q=0.8',\n",
    "           'Connection': 'keep-alive'}\n",
    "req = requests.get(url, headers=headers)\n",
    "soup = BeautifulSoup(req.text, 'html.parser')\n",
    "h1 = soup.find_all('h1')\n",
    "h2 = soup.find_all('h2')\n",
    "h3 = soup.find_all('h3')\n",
    "h4 = soup.find_all('h4')\n",
    "h5 = soup.find_all('h5')\n",
    "h6 = soup.find_all('h6')\n",
    "if len(h1)>0:\n",
    "    data.append(len(h1))\n",
    "    allign.append('h1')\n",
    "if len(h2)>0:\n",
    "    data.append(len(h2))\n",
    "    allign.append('h2')\n",
    "if len(h3)>0:\n",
    "    data.append(len(h3))\n",
    "    allign.append('h3')\n",
    "if len(h4)>0:\n",
    "    data.append(len(h4))\n",
    "    allign.append('h4')\n",
    "if len(h5)>0:\n",
    "    data.append(len(h5))\n",
    "    allign.append('h5')\n",
    "if len(h6)>0:\n",
    "    data.append(len(h6))\n",
    "    allign.append('h6')\n",
    "    \n",
    "print(f\"h1-{len(h1)}\\nh2-{len(h2)}\\nh3-{len(h3)}\\nh4-{len(h4)}\\nh5-{len(h5)}\\nh6-{len(h6)}\\n\")\n",
    "fig = plt.figure(figsize =(10, 8))\n",
    "plt.pie(data, labels = allign)\n",
    "  \n",
    "# show plot\n",
    "plt.show()"
   ]
  },
  {
   "cell_type": "code",
   "execution_count": 1,
   "id": "890513e8",
   "metadata": {},
   "outputs": [
    {
     "name": "stdout",
     "output_type": "stream",
     "text": [
      " Which page would you like to check? Enter the Full URl:https://alienion.com/\n",
      "we found 2 stop words in your title.You should consider removing them.['to', 'your']\n",
      " Which page would you like to check? Enter the Full URl:https://en.wikipedia.org/wiki/Rabindranath_Tagore\n",
      "we found no stop words in the Title.Good work\n",
      " Which page would you like to check? Enter the Full URl:https://www.flipkart.com/\n",
      "we found 3 stop words in your title.You should consider removing them.['for', 'more', 'site']\n"
     ]
    }
   ],
   "source": [
    "from urllib.request import urlopen\n",
    "from bs4 import BeautifulSoup\n",
    "import requests\n",
    "import re\n",
    "\n",
    "def seo_title_stop_words():\n",
    "    site=input (\" Which page would you like to check? Enter the Full URl:\")\n",
    "    headers = {'User-Agent': 'Mozilla/5.0 (X11; Linux x86_64) AppleWebKit/537.11 (KHTML, like Gecko) Chrome/23.0.1271.64 Safari/537.11',\n",
    "               'Accept': 'text/html,application/xhtml+xml,application/xml;q=0.9,*/*;q=0.8',\n",
    "               'Accept-Charset': 'ISO-8859-1,utf-8;q=0.7,*;q=0.3',\n",
    "               'Accept-Encoding': 'none',\n",
    "               'Accept-Language': 'en-US,en;q=0.8',\n",
    "               'Connection': 'keep-alive'}\n",
    "    response = requests.get(site,headers=headers)\n",
    "    soup = BeautifulSoup(response.text, 'html.parser')\n",
    "    data=soup\n",
    "    words=0\n",
    "    list_words=[]\n",
    "    if data.title:\n",
    "        with open('stopwords.txt','r') as f:\n",
    "            for line in f:\n",
    "                if re.search(r'\\b' + line.rstrip('\\n') + r'\\b', data.title.text.casefold()):\n",
    "                    words +=1\n",
    "                    list_words.append(line.rstrip('\\n'))\n",
    "        if words > 0:\n",
    "            stop_words=\"we found {} stop words in your title.You should consider removing them.{}\".format(words,list_words)\n",
    "        else:\n",
    "            stop_words=\"we found no stop words in the Title.Good work\"\n",
    "                    \n",
    "    else:\n",
    "        stop_words=\"we could not found  a title\"\n",
    "        \n",
    "    return stop_words\n",
    "for i in range(3):\n",
    "    print(seo_title_stop_words())\n",
    "       \n"
   ]
  },
  {
   "cell_type": "code",
   "execution_count": 2,
   "id": "37315985",
   "metadata": {},
   "outputs": [
    {
     "name": "stdout",
     "output_type": "stream",
     "text": [
      "Enter url:https://alienion.com/\n",
      "HTTP count- 2\n",
      "HTTPS count-95\n"
     ]
    },
    {
     "data": {
      "image/png": "[encoded data removed]",
      "text/plain": [
       "<Figure size 720x576 with 1 Axes>"
      ]
     },
     "metadata": {},
     "output_type": "display_data"
    }
   ],
   "source": [
    "from bs4 import BeautifulSoup\n",
    "import urllib.request\n",
    "import requests\n",
    "from matplotlib import pyplot as plt\n",
    "import numpy as np\n",
    "from urllib. parse import urlparse\n",
    "import requests\n",
    "def url_checker(url_c,protocol,domain):  \n",
    "    if url_c.startswith(\"http\"):\n",
    "        ur = url_c\n",
    "    elif url_c.startswith(\"//\"):\n",
    "        ur = protocol+\":\"+url_c\n",
    "    elif url_c.startswith(\"/\"):\n",
    "        ur = protocol+\"://\"+domain+url_c\n",
    "    elif url_c.startswith(\"#\"):\n",
    "        ur = url+\"/\"+url_c\n",
    "    else:\n",
    "        ur = protocol+\"://\"+domain+\"/\"+url_c\n",
    "    return ur\n",
    "\n",
    "url = input(\"Enter url:\")\n",
    "headers = {'User-Agent': 'Mozilla/5.0 (X11; Linux x86_64) AppleWebKit/537.11 (KHTML, like Gecko) Chrome/23.0.1271.64 Safari/537.11',\n",
    "           'Accept': 'text/html,application/xhtml+xml,application/xml;q=0.9,/;q=0.8',\n",
    "           'Accept-Charset': 'ISO-8859-1,utf-8;q=0.7,*;q=0.3',\n",
    "           'Accept-Encoding': 'none',\n",
    "           'Accept-Language': 'en-US,en;q=0.8',\n",
    "           'Connection': 'keep-alive'}\n",
    "req = requests.get(url, headers=headers)\n",
    "soup = BeautifulSoup(req.text, 'html.parser')\n",
    "domain = urlparse(url). netloc \n",
    "protocol = url.split(\":\")[0]\n",
    "http = 0\n",
    "https = 0\n",
    "# print(soup.find_all('a',href=True))\n",
    "for link in soup.find_all('a',href=True):\n",
    "    result = url_checker(link['href'],protocol,domain)\n",
    "#     print(result)\n",
    "    if result.startswith(\"https\"):\n",
    "        https+=1\n",
    "    elif result.startswith(\"http\"):\n",
    "        http+=1\n",
    "    else:\n",
    "        pass\n",
    "for link in soup.find_all('link',href=True):\n",
    "    result = url_checker(link['href'],protocol,domain)\n",
    "#     print(result)\n",
    "    if result.startswith(\"https\"):\n",
    "        https+=1\n",
    "    elif result.startswith(\"http\"):\n",
    "        http+=1\n",
    "    else:\n",
    "        pass\n",
    "fig = plt.figure(figsize =(10, 8))\n",
    "plt.pie([http,https], labels = ['http','https'])\n",
    "print(f\"HTTP count- {http}\\nHTTPS count-{https}\")"
   ]
  },
  {
   "cell_type": "code",
   "execution_count": null,
   "id": "a0512504",
   "metadata": {},
   "outputs": [],
   "source": []
  }
 ],
 "metadata": {
  "kernelspec": {
   "display_name": "Python 3",
   "language": "python",
   "name": "python3"
  },
  "language_info": {
   "codemirror_mode": {
    "name": "ipython",
    "version": 3
   },
   "file_extension": ".py",
   "mimetype": "text/x-python",
   "name": "python",
   "nbconvert_exporter": "python",
   "pygments_lexer": "ipython3",
   "version": "3.8.8"
  }
 },
 "nbformat": 4,
 "nbformat_minor": 5
}
