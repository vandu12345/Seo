{
 "cells": [
  {
   "cell_type": "code",
   "execution_count": 1,
   "metadata": {},
   "outputs": [
    {
     "name": "stdout",
     "output_type": "stream",
     "text": [
      "Paragraph-1 -> 4\n",
      "Paragraph-2 -> 4\n",
      "Paragraph-3 -> 4\n",
      "Paragraph-4 -> 73\n",
      "No of Paragraph is 4\n"
     ]
    }
   ],
   "source": [
    "import re,urllib,requests,math\n",
    "# from io import StringIO\n",
    "from bs4 import BeautifulSoup\n",
    "# from PIL import Image\n",
    "\n",
    "# site = 'https://www.amazon.in/'\n",
    "# response = requests.get(site)\n",
    "count = 0;\n",
    "with open('test.html') as hf:\n",
    "    soup = BeautifulSoup(hf, 'html.parser')\n",
    "for par in soup.find_all('p'):\n",
    "    count+=1\n",
    "    x = len(par.text.split(\" \"))\n",
    "    print(f\"Paragraph-{count} -> {x}\")\n",
    "print(f\"No of Paragraph is {count}\")"
   ]
  },
  {
   "cell_type": "code",
   "execution_count": null,
   "metadata": {},
   "outputs": [],
   "source": []
  }
 ],
 "metadata": {
  "kernelspec": {
   "display_name": "Python 3",
   "language": "python",
   "name": "python3"
  },
  "language_info": {
   "codemirror_mode": {
    "name": "ipython",
    "version": 3
   },
   "file_extension": ".py",
   "mimetype": "text/x-python",
   "name": "python",
   "nbconvert_exporter": "python",
   "pygments_lexer": "ipython3",
   "version": "3.8.3"
  }
 },
 "nbformat": 4,
 "nbformat_minor": 4
}
