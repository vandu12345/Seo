{
 "cells": [
  {
   "cell_type": "code",
   "execution_count": 66,
   "metadata": {},
   "outputs": [
    {
     "name": "stdout",
     "output_type": "stream",
     "text": [
      "No of Paragraphs:70\n",
      "Sum of words:5825\n",
      "Max Word in a paragraph:221\n",
      "Min word in a paragraph :1\n",
      "Average : 83\n",
      "Sd:66\n",
      "0.45646158242220997\n"
     ]
    },
    {
     "data": {
      "image/png": "[encoded data removed]",
      "text/plain": [
       "<Figure size 432x288 with 1 Axes>"
      ]
     },
     "metadata": {},
     "output_type": "display_data"
    }
   ],
   "source": [
    "import re,urllib,requests,math\n",
    "# from io import StringIO\n",
    "from bs4 import BeautifulSoup\n",
    "import math,statistics\n",
    "import matplotlib.pyplot as plt\n",
    "import numpy as np\n",
    "# import scipy.stats\n",
    "from scipy import stats\n",
    "from scipy.stats import norm\n",
    "# from PIL import Image\n",
    "\n",
    "# site = 'https://www.amazon.in/'\n",
    "# response = requests.get(site)\n",
    "count = 0;\n",
    "Max = 0\n",
    "Min = float(\"inf\")\n",
    "Sum = 0\n",
    "# with open('test.html') as hf:\n",
    "#     soup = BeautifulSoup(hf, 'html.parser')\n",
    "site = 'https://en.wikipedia.org/wiki/Swami_Vivekananda'\n",
    "list1 = list()\n",
    "response = requests.get(site)\n",
    "soup = BeautifulSoup(response.text, 'html.parser')\n",
    "for par in soup.find_all('p'):\n",
    "    k = len(par.text.split(\" \"))\n",
    "    Max = max(Max,k)\n",
    "    Min = min(Min,k)\n",
    "    Sum+=k\n",
    "    count+=1\n",
    "    list1.append(k)\n",
    "#     print(f\"Paragraph-{count} -> {x}\")\n",
    "mean = round(Sum/count)\n",
    "print(f\"No of Paragraphs:{count}\\nSum of words:{Sum}\\nMax Word in a paragraph:{Max}\\nMin word in a paragraph :{Min}\\nAverage : {mean}\")\n",
    "sd = 0\n",
    "# c1 = min(mean,60)\n",
    "c1 = 60\n",
    "c = 0\n",
    "y = 0\n",
    "for i in list1:\n",
    "    sd = sd+(i-mean)**2\n",
    "    if(i>c1):\n",
    "        x = (Max-i)/(Max-c1)\n",
    "        y+=x\n",
    "    elif(i<c1):\n",
    "        x = (i-Min)/(c1-Min)\n",
    "        y+=x\n",
    "    else:\n",
    "        x = 1\n",
    "        y+=x\n",
    "    c+=1\n",
    "    plt.plot(i, (1/(sd1*math.sqrt(2*3.14)))*np.exp(-np.power(i - mean, 2.) / (2 * np.power(sd1, 2.))),'o')\n",
    "    \n",
    "#     print(f\"Paragraph_{c} word {i}: {round(x,2)}\")\n",
    "# print(list1)\n",
    "sd1 = round(math.sqrt(sd/(count)))\n",
    "print(f\"Sd:{sd1}\")\n",
    "print(y/count)\n",
    "# print(statistics.stdev(list1))\n"
   ]
  },
  {
   "cell_type": "code",
   "execution_count": 2,
   "metadata": {},
   "outputs": [
    {
     "name": "stdout",
     "output_type": "stream",
     "text": [
      "Paragraph-1 -> 4\n",
      "Paragraph-2 -> 87\n",
      "Paragraph-3 -> 6\n",
      "Paragraph-4 -> 1\n",
      "Paragraph-5 -> 10\n",
      "Paragraph-6 -> 3\n",
      "Paragraph-7 -> 36\n",
      "Paragraph-8 -> 17\n",
      "Paragraph-9 -> 98\n",
      "Paragraph-10 -> 16\n",
      "No of Paragraph is 10\n"
     ]
    }
   ],
   "source": [
    "import re,urllib,requests,math\n",
    "# from io import StringIO\n",
    "from bs4 import BeautifulSoup\n",
    "# from PIL import Image\n",
    "\n",
    "site = 'https://simple.wikipedia.org/wiki/Main_Page'\n",
    "response = requests.get(site)\n",
    "# print(response.text.pretify())\n",
    "count = 0\n",
    "soup = BeautifulSoup(response.text, 'html.parser')\n",
    "for par in soup.find_all('p'):\n",
    "    count+=1\n",
    "    x = len(par.text.split(\" \"))\n",
    "    print(f\"Paragraph-{count} -> {x}\")\n",
    "print(f\"No of Paragraph is {count}\")"
   ]
  },
  {
   "cell_type": "code",
   "execution_count": null,
   "metadata": {},
   "outputs": [],
   "source": []
  }
 ],
 "metadata": {
  "kernelspec": {
   "display_name": "Python 3",
   "language": "python",
   "name": "python3"
  },
  "language_info": {
   "codemirror_mode": {
    "name": "ipython",
    "version": 3
   },
   "file_extension": ".py",
   "mimetype": "text/x-python",
   "name": "python",
   "nbconvert_exporter": "python",
   "pygments_lexer": "ipython3",
   "version": "3.8.3"
  }
 },
 "nbformat": 4,
 "nbformat_minor": 4
}
