{
 "cells": [
  {
   "cell_type": "code",
   "execution_count": 1,
   "metadata": {},
   "outputs": [
    {
     "name": "stdout",
     "output_type": "stream",
     "text": [
      "NoFollow-3 \n",
      "DoFollow-5\n"
     ]
    }
   ],
   "source": [
    "from bs4 import BeautifulSoup\n",
    "import urllib.request\n",
    "import re\n",
    "parser = 'html.parser'  \n",
    "# resp = urllib.request.urlopen(\"https://www.amazon.in/\")\n",
    "# soup = BeautifulSoup(resp, parser, from_encoding=resp.info().get_param('charset'))\n",
    "with open('test.html') as hf:\n",
    "    soup = BeautifulSoup(hf, 'html.parser')\n",
    "noFollow = 0\n",
    "doFollow = 0\n",
    "for link in soup.find_all('a'):\n",
    "    try:\n",
    "        if link['rel'][0]==\"nofollow\":\n",
    "            noFollow+=1;\n",
    "    except:\n",
    "        doFollow+=1;\n",
    "#     print(link['rel'])\n",
    "print(f\"NoFollow-{noFollow} \\nDoFollow-{doFollow}\")"
   ]
  },
  {
   "cell_type": "code",
   "execution_count": 18,
   "metadata": {},
   "outputs": [
    {
     "name": "stdout",
     "output_type": "stream",
     "text": [
      "39\n",
      "24\n",
      "JavaScript seems to be disabled in your browser. For the best experience on our site, be sure to turn on Javascript in your browser.\n",
      "105\n",
      " This privacy policy sets out how this website (hereafter \"the Store\") uses and protects any information that you give the Store while using this website. The Store is committed to ensuring that your privacy is protected. Should we ask you to provide certain information by which you can be identified when using this website, then you can be assured that it will only be used in accordance with this privacy statement. The Store may change this policy from time to time by updating this page. You should check this page from time to time to ensure that you are happy with any changes. \n",
      "6\n",
      "We may collect the following information:\n",
      "18\n",
      " For the exhaustive list of cookies we collect see the List of cookies we collect section. \n",
      "24\n",
      " We require this information to understand your needs and provide you with a better service, and in particular for the following reasons: \n",
      "40\n",
      " We are committed to ensuring that your information is secure. In order to prevent unauthorised access or disclosure, we have put in place suitable physical, electronic and managerial procedures to safeguard and secure the information we collect online. \n",
      "75\n",
      " A cookie is a small file which asks permission to be placed on your computer's hard drive. Once you agree, the file is added and the cookie helps analyse web traffic or lets you know when you visit a particular site. Cookies allow web applications to respond to you as an individual. The web application can tailor its operations to your needs, likes and dislikes by gathering and remembering information about your preferences. \n",
      "53\n",
      " We use traffic log cookies to identify which pages are being used. This helps us analyse data about web page traffic and improve our website in order to tailor it to customer needs. We only use this information for statistical analysis purposes and then the data is removed from the system. \n",
      "92\n",
      " Overall, cookies help us provide you with a better website, by enabling us to monitor which pages you find useful and which you do not. A cookie in no way gives us access to your computer or any information about you, other than the data you choose to share with us. You can choose to accept or decline cookies. Most web browsers automatically accept cookies, but you can usually modify your browser setting to decline cookies if you prefer. This may prevent you from taking full advantage of the website. \n",
      "83\n",
      " Our website may contain links to other websites of interest. However, once you have used these links to leave our site, you should note that we do not have any control over that other website. Therefore, we cannot be responsible for the protection and privacy of any information which you provide whilst visiting such sites and such sites are not governed by this privacy statement. You should exercise caution and look at the privacy statement applicable to the website in question. \n",
      "17\n",
      "You may choose to restrict the collection or use of your personal information in the following ways:\n",
      "59\n",
      " We will not sell, distribute or lease your personal information to third parties unless we have your permission or are required by law to do so. We may use your personal information to send you promotional information about third parties which we think you may find interesting if you tell us that you wish this to happen. \n",
      "48\n",
      " You may request details of personal information which we hold about you under the Data Protection Act 1998. A small fee will be payable. If you would like a copy of the information held on you please email us this request using our Contact Us information. \n",
      "41\n",
      " If you believe that any information we are holding on you is incorrect or incomplete, please write to or email us as soon as possible, at the above address. We will promptly correct any information found to be incorrect. \n",
      "13\n",
      "The table below lists the cookies we collect and what information they store.\n",
      "466\n",
      " Our Product Range  Signature Cakes  Cake Library  Photo Cake  Create a Cake Cakes Birthday Wedding      Black Forest Weight 500 gms.Ingredient Details.Chocolate s...      ₹400.00   Add to Cart Add Fastest Delivery03 Mar 2021   Special   Choco EspressoWeight-500gms. Ingredient DetailsChocolate sponge cake with choco coffee f...      ₹400.00   Add to Cart Add Fastest Delivery03 Mar 2021     Choco Feather Weight 500 gms.Ingredient Details.Chocolate sponge cake filled with buttercream, cocoa po...      ₹320.00   Add to Cart Add Fastest Delivery03 Mar 2021     Choco Blossom Weight 600 gms.Ingredient Details.Chocolate sponge with chocolate ganache, ...      ₹450.00   Add to Cart Add Fastest Delivery03 Mar 2021      013Rs 1000/-Kg for all flavours    1.5 kg 2 kg 2.5 kg 3 kg 3.5 kg 4 kg 4.5 kg 5 kg      ₹0.00   Add to Cart Add Fastest Delivery03 Mar 2021      095Rs 1200/-Kg for all flavours    1 kg 1.5 kg 2 kg 2.5 kg 3 kg 3.5 kg 4 kg 4.5 kg 5 kg      ₹0.00   Add to Cart Add Fastest Delivery04 Mar 2021      108Rs 1000/- for all flavours    1 kg 1.5 kg 2 kg 2.5 kg 3 kg 3.5 kg 4 kg 4.5 kg 5 kg      ₹0.00   Add to Cart Add Fastest Delivery04 Mar 2021      198 (2 Tier)Rs 1200/- for all flavours    3 kg      ₹0.00   Add to Cart Add Fastest Delivery04 Mar 2021       212Rs 1200/-kg For All Flavour    1.5 kg 2 kg 2.5 kg 3 kg 3.5 kg 4 kg 4.5 kg 5 kg      ₹0.00   Add to Cart Add Fastest Delivery04 Mar 2021      239Rs 1000/-kg for all flavour    3 kg 3.5 kg 4 kg 4.5 kg 5 kg      ₹0.00   Add to Cart Add Fastest Delivery04 Mar 2021      262 (4 Tier)Rs 1600/-kg for all flavour    10 kg      ₹0.00   Add to Cart Add Fastest Delivery04 Mar 2021      261 (4 Tier)Rs 1600/-kg for all flavour    10 kg      ₹0.00   Add to Cart Add Fastest Delivery04 Mar 2021 \n",
      "3\n",
      "Weight 500 gms.\n",
      "2\n",
      "Ingredient Details.\n",
      "2\n",
      "Chocolate s...\n",
      "1\n",
      "Weight-500gms. \n",
      "2\n",
      "Ingredient Details\n",
      "7\n",
      "Chocolate sponge cake with choco coffee f...\n",
      "11\n",
      "Weight 500 gms.Ingredient Details.Chocolate sponge cake filled with buttercream, cocoa po...\n",
      "3\n",
      "Weight 600 gms.\n",
      "2\n",
      "Ingredient Details.\n",
      "6\n",
      "Chocolate sponge with chocolate ganache, ...\n",
      "5\n",
      "Rs 1000/-Kg for all flavours\n",
      "5\n",
      "Rs 1200/-Kg for all flavours\n",
      "5\n",
      "Rs 1000/- for all flavours\n",
      "5\n",
      "Rs 1200/- for all flavours\n",
      "5\n",
      "Rs 1200/-kg For All Flavour\n",
      "5\n",
      "Rs 1000/-kg for all flavour\n",
      "5\n",
      "Rs 1600/-kg for all flavour\n",
      "5\n",
      "Rs 1600/-kg for all flavour\n",
      "6\n",
      "Delighting Kolkata for over two decades\n",
      "5\n",
      "Your neighborhoodcake shop present online\n",
      "7\n",
      "A wide variety of deliciousitems on offer\n",
      "6\n",
      "Dream Shape Cakesfor your loved ones\n",
      "16\n",
      "One Time Password (OTP) has been sent to your mobile,please enter the same here to login.\n"
     ]
    }
   ],
   "source": [
    "from bs4 import BeautifulSoup\n",
    "import urllib.request\n",
    "import re\n",
    "parser = 'html.parser'  \n",
    "resp = urllib.request.urlopen(\"https://mioamoreshop.com/\")\n",
    "soup = BeautifulSoup(resp, parser, from_encoding=resp.info().get_param('charset'))\n",
    "count = 0\n",
    "print(len(soup.find_all(\"p\")))\n",
    "for parg in soup.find_all('p'):\n",
    "#     count+=1\n",
    "    print(len(parg.text.split(\" \")))\n",
    "    print(parg.text)\n",
    "# print(count)"
   ]
  },
  {
   "cell_type": "code",
   "execution_count": 9,
   "metadata": {},
   "outputs": [
    {
     "name": "stdout",
     "output_type": "stream",
     "text": [
      "NoFollow-0 \n",
      "DoFollow-88\n"
     ]
    }
   ],
   "source": [
    "from bs4 import BeautifulSoup\n",
    "# import urllib.request\n",
    "import re,urllib,requests,math\n",
    "import re\n",
    "site = 'https://blog.alexa.com/dofollow-vs-nofollow-links/'\n",
    "response = requests.get(site)\n",
    "# print(response.text.pretify())\n",
    "soup = BeautifulSoup(response.text, 'html.parser')\n",
    "noFollow = 0\n",
    "doFollow = 0\n",
    "for link in soup.find_all('a'):\n",
    "    try:\n",
    "        if link['rel'][0]==\"nofollow\":\n",
    "            noFollow+=1;\n",
    "    except:\n",
    "        doFollow+=1;\n",
    "#     print(link['rel'])\n",
    "print(f\"NoFollow-{noFollow} \\nDoFollow-{doFollow}\")\n",
    "# print(count)"
   ]
  },
  {
   "cell_type": "code",
   "execution_count": null,
   "metadata": {},
   "outputs": [],
   "source": []
  }
 ],
 "metadata": {
  "kernelspec": {
   "display_name": "Python 3",
   "language": "python",
   "name": "python3"
  },
  "language_info": {
   "codemirror_mode": {
    "name": "ipython",
    "version": 3
   },
   "file_extension": ".py",
   "mimetype": "text/x-python",
   "name": "python",
   "nbconvert_exporter": "python",
   "pygments_lexer": "ipython3",
   "version": "3.8.3"
  }
 },
 "nbformat": 4,
 "nbformat_minor": 4
}
